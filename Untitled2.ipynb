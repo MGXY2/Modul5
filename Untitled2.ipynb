{
  "nbformat": 4,
  "nbformat_minor": 0,
  "metadata": {
    "colab": {
      "provenance": [],
      "authorship_tag": "ABX9TyMsjXjeoAPN6Ry2yJHmqD23",
      "include_colab_link": true
    },
    "kernelspec": {
      "name": "python3",
      "display_name": "Python 3"
    },
    "language_info": {
      "name": "python"
    }
  },
  "cells": [
    {
      "cell_type": "markdown",
      "metadata": {
        "id": "view-in-github",
        "colab_type": "text"
      },
      "source": [
        "<a href=\"https://colab.research.google.com/github/MGXY2/Modul5/blob/main/Untitled2.ipynb\" target=\"_parent\"><img src=\"https://colab.research.google.com/assets/colab-badge.svg\" alt=\"Open In Colab\"/></a>"
      ]
    },
    {
      "cell_type": "code",
      "execution_count": null,
      "metadata": {
        "colab": {
          "base_uri": "https://localhost:8080/"
        },
        "id": "05_v6z782K9L",
        "outputId": "965dbc59-2891-4650-e47c-ef7cd5c9271d"
      },
      "outputs": [
        {
          "output_type": "stream",
          "name": "stdout",
          "text": [
            "1.9835235375094546\n",
            "0.01647646249054535\n",
            "1.9835235375094546\n",
            "0.01647646249054535\n",
            "2.0082484079079745\n",
            "-0.008248407907974542\n"
          ]
        }
      ],
      "source": [
        "import numpy as np\n",
        "\n",
        "a=0\n",
        "b=np.pi\n",
        "n=11\n",
        "h=(b-a)/(n-1)\n",
        "x=np.linspace(a,b,n)\n",
        "f=np.sin(x)\n",
        "\n",
        "I_rienmannL= h * sum(f[:n-1])\n",
        "err_rienmannL=2-I_rienmannL\n",
        "I_riemannR = h * sum(f[1::])\n",
        "err_riemannR=2-I_riemannR\n",
        "I_midpoint = h * sum(np.sin((x[:n-1] + x[1:])/2))\n",
        "err_midpoint = 2 - I_midpoint\n",
        "\n",
        "print(I_rienmannL)\n",
        "print(err_rienmannL)\n",
        "print(I_riemannR)\n",
        "print(err_riemannR)\n",
        "print(I_midpoint)\n",
        "print(err_midpoint)"
      ]
    },
    {
      "cell_type": "code",
      "source": [
        "import numpy as np\n",
        "a=0\n",
        "b=np.pi\n",
        "n=11\n",
        "h=(b-a)/(n-1)\n",
        "x=np.linspace(a,b,n)\n",
        "f=np.sin(x)\n",
        "\n",
        "I_trap=h/2*(f[0]+2*sum(f[1:n-1])+f[n-1])\n",
        "err_trap=2-I_trap\n",
        "print(I_trap)\n",
        "print(err_trap)"
      ],
      "metadata": {
        "colab": {
          "base_uri": "https://localhost:8080/"
        },
        "id": "lI4hi7e43RGn",
        "outputId": "1963cf83-8411-4c02-bb20-9bf624a7f4ce"
      },
      "execution_count": null,
      "outputs": [
        {
          "output_type": "stream",
          "name": "stdout",
          "text": [
            "1.9835235375094546\n",
            "0.01647646249054535\n"
          ]
        }
      ]
    },
    {
      "cell_type": "code",
      "source": [
        "import numpy as np\n",
        "from scipy.integrate import trapezoid\n",
        "\n",
        "a=0\n",
        "b=np.pi\n",
        "n=11\n",
        "h=(b-a)/(n-1)\n",
        "x=np.linspace(a,b,n)\n",
        "f=np.sin(x)\n",
        "\n",
        "I_trapz=trapezoid(f,x)\n",
        "err_trapz=2-I_trapz\n",
        "\n",
        "print(I_trapz)\n",
        "print(err_trapz)"
      ],
      "metadata": {
        "colab": {
          "base_uri": "https://localhost:8080/"
        },
        "id": "a1KyyBNB5Xk7",
        "outputId": "1426dde6-c1af-4b07-cb19-a08c82eac1e9"
      },
      "execution_count": null,
      "outputs": [
        {
          "output_type": "stream",
          "name": "stdout",
          "text": [
            "1.9835235375094544\n",
            "0.016476462490545574\n"
          ]
        }
      ]
    },
    {
      "cell_type": "code",
      "source": [
        "from scipy.integrate import quad\n",
        "\n",
        "I_quad, est_erreur = quad(np.sin, 0, np.pi)\n",
        "print(I_quad)\n",
        "err_quads=2-I_quad\n",
        "print(est_erreur,err_quads)"
      ],
      "metadata": {
        "colab": {
          "base_uri": "https://localhost:8080/"
        },
        "id": "RPjG15Z16g4C",
        "outputId": "e86f5b7d-d7d1-4c16-ebf5-2c9d508c106a"
      },
      "execution_count": null,
      "outputs": [
        {
          "output_type": "stream",
          "name": "stdout",
          "text": [
            "2.0\n",
            "2.220446049250313e-14 0.0\n"
          ]
        }
      ]
    },
    {
      "cell_type": "markdown",
      "source": [],
      "metadata": {
        "id": "_TwEnol56gpS"
      }
    }
  ]
}